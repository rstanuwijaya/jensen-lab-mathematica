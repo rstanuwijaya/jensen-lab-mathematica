{
 "cells": [
  {
   "cell_type": "code",
   "execution_count": 52,
   "metadata": {},
   "outputs": [
    {
     "name": "stdout",
     "output_type": "stream",
     "text": [
      "The autoreload extension is already loaded. To reload it, use:\n",
      "  %reload_ext autoreload\n"
     ]
    }
   ],
   "source": [
    "%load_ext autoreload\n",
    "%autoreload 2\n",
    "\n",
    "import sys\n",
    "sys.path.append('../src/')\n",
    "\n",
    "from math import ceil, floor, pi, acos, prod, sqrt, sin, cos, tan\n",
    "import numpy as np\n",
    "import matplotlib.pyplot as plt\n",
    "import time\n",
    "import os\n",
    "import cv2\n",
    "\n",
    "from IPython.display import clear_output\n",
    "import matplotlib\n",
    "matplotlib.use('WebAgg')\n",
    "\n",
    "from colorsys import hls_to_rgb\n",
    "def colorize(z):\n",
    "    n,m = z.shape\n",
    "    c = np.zeros((n,m,3))\n",
    "    c[np.isinf(z)] = (1.0, 1.0, 1.0)\n",
    "    c[np.isnan(z)] = (0.5, 0.5, 0.5)\n",
    "\n",
    "    idx = ~(np.isinf(z) + np.isnan(z))\n",
    "    A = (np.angle(z[idx]) + np.pi) / (2*np.pi)\n",
    "    A = (A + 0.5) % 1.0\n",
    "    B = 1.0 - 1.0/(1.0+abs(z[idx])**0.3)\n",
    "    c[idx] = [hls_to_rgb(a, b, 0.8) for a,b in zip(A,B)]\n",
    "    return c"
   ]
  },
  {
   "cell_type": "code",
   "execution_count": 53,
   "metadata": {},
   "outputs": [
    {
     "ename": "ModuleNotFoundError",
     "evalue": "No module named 'holoeye'",
     "output_type": "error",
     "traceback": [
      "\u001b[0;31m---------------------------------------------------------------------------\u001b[0m",
      "\u001b[0;31mModuleNotFoundError\u001b[0m                       Traceback (most recent call last)",
      "\u001b[1;32m/home/stnav/Projects/jensen-lab-mathematica/lens-array/SLMcontrol.ipynb Cell 2\u001b[0m in \u001b[0;36m<cell line: 2>\u001b[0;34m()\u001b[0m\n\u001b[1;32m      <a href='vscode-notebook-cell://ssh-remote%2B10.244.0.1/home/stnav/Projects/jensen-lab-mathematica/lens-array/SLMcontrol.ipynb#W1sdnNjb2RlLXJlbW90ZQ%3D%3D?line=0'>1</a>\u001b[0m sys\u001b[39m.\u001b[39mpath\u001b[39m.\u001b[39mappend(os\u001b[39m.\u001b[39mgetenv(\u001b[39m\"\u001b[39m\u001b[39mHEDS_PYTHON_MODULES\u001b[39m\u001b[39m\"\u001b[39m, \u001b[39m\"\u001b[39m\u001b[39m\"\u001b[39m))\n\u001b[0;32m----> <a href='vscode-notebook-cell://ssh-remote%2B10.244.0.1/home/stnav/Projects/jensen-lab-mathematica/lens-array/SLMcontrol.ipynb#W1sdnNjb2RlLXJlbW90ZQ%3D%3D?line=1'>2</a>\u001b[0m \u001b[39mfrom\u001b[39;00m \u001b[39mholoeye\u001b[39;00m \u001b[39mimport\u001b[39;00m slmdisplaysdk\n\u001b[1;32m      <a href='vscode-notebook-cell://ssh-remote%2B10.244.0.1/home/stnav/Projects/jensen-lab-mathematica/lens-array/SLMcontrol.ipynb#W1sdnNjb2RlLXJlbW90ZQ%3D%3D?line=3'>4</a>\u001b[0m ErrorCode \u001b[39m=\u001b[39m slmdisplaysdk\u001b[39m.\u001b[39mSLMDisplay\u001b[39m.\u001b[39mErrorCode\n\u001b[1;32m      <a href='vscode-notebook-cell://ssh-remote%2B10.244.0.1/home/stnav/Projects/jensen-lab-mathematica/lens-array/SLMcontrol.ipynb#W1sdnNjb2RlLXJlbW90ZQ%3D%3D?line=4'>5</a>\u001b[0m ShowFlags \u001b[39m=\u001b[39m slmdisplaysdk\u001b[39m.\u001b[39mSLMDisplay\u001b[39m.\u001b[39mShowFlags\n",
      "\u001b[0;31mModuleNotFoundError\u001b[0m: No module named 'holoeye'"
     ]
    }
   ],
   "source": [
    "sys.path.append(os.getenv(\"HEDS_PYTHON_MODULES\", \"\"))\n",
    "from holoeye import slmdisplaysdk\n",
    "\n",
    "ErrorCode = slmdisplaysdk.SLMDisplay.ErrorCode\n",
    "ShowFlags = slmdisplaysdk.SLMDisplay.ShowFlags\n",
    "\n",
    "slm = slmdisplaysdk.SLMDisplay()\n"
   ]
  },
  {
   "cell_type": "code",
   "execution_count": null,
   "metadata": {},
   "outputs": [],
   "source": [
    "plt.close('all')\n",
    "plt.draw_all()"
   ]
  },
  {
   "cell_type": "code",
   "execution_count": null,
   "metadata": {},
   "outputs": [
    {
     "name": "stdout",
     "output_type": "stream",
     "text": [
      "press z\n"
     ]
    }
   ],
   "source": [
    "def on_press(event):\n",
    "    print('press', event.key)\n",
    "    # sys.stdout.flush()\n",
    "    clear_output(wait=True)\n",
    "    if event.key == 'x':\n",
    "        visible = xl.get_visible()\n",
    "        xl.set_visible(not visible)\n",
    "        fig.canvas.draw()\n",
    "    if event.key == 'z':\n",
    "        plt.close()\n",
    "        \n",
    "def on_click(event):\n",
    "    print('click', event.button, event.xdata, event.ydata)\n",
    "    # sys.stdout.flush()\n",
    "    clear_output(wait=True)\n",
    "\n",
    "# Fixing random state for reproducibility\n",
    "np.random.seed(19680801)\n",
    "\n",
    "fig, ax = plt.subplots()\n",
    "\n",
    "plt.connect('key_press_event', on_press)\n",
    "plt.connect('button_press_event', on_click)\n",
    "\n",
    "ax.plot(np.random.rand(12), np.random.rand(12), 'go')\n",
    "xl = ax.set_xlabel('easy come, easy go')\n",
    "ax.set_title('Press a key')\n",
    "plt.show()"
   ]
  },
  {
   "cell_type": "code",
   "execution_count": 102,
   "metadata": {},
   "outputs": [],
   "source": [
    "slm_res = 8\n",
    "slm_dim = np.array((1080, 1920))\n",
    "lens_size = 64\n",
    "wl = 0.810\n",
    "deflect_angle = 0.5\n",
    "offset = np.array([0, 0])\n",
    "\n",
    "pattern_size, redun_size = np.divmod(slm_dim, lens_size)\n",
    "k0 = 2*pi/wl"
   ]
  },
  {
   "cell_type": "code",
   "execution_count": 105,
   "metadata": {},
   "outputs": [],
   "source": [
    "def slm_phaseamp_control(profile) -> np.ndarray:\n",
    "    phase_plus = np.angle(profile) + np.arccos(np.abs(profile))\n",
    "    phase_minus = np.angle(profile) - np.arccos(np.abs(profile))\n",
    "    meta = np.array([[np.exp(1j*phase_plus), np.exp(1j*phase_minus)],\n",
    "                     [np.exp(1j*phase_minus), np.exp(1j*phase_plus)]])\n",
    "    meta = np.transpose(meta, (2, 0, 3, 1))\n",
    "    meta = np.repeat(meta, lens_size//2, axis=0)\n",
    "    meta = np.repeat(meta, lens_size//2, axis=2)\n",
    "    meta = np.reshape(\n",
    "        meta, (meta.shape[0]*meta.shape[1], meta.shape[2]*meta.shape[3]))\n",
    "    return meta\n",
    "\n",
    "\n",
    "def create_phase_gradient() -> np.ndarray:\n",
    "    x = np.arange(0, slm_dim[0]*slm_res, slm_res)\n",
    "    y = np.arange(0, slm_dim[1]*slm_res, slm_res)\n",
    "    y, x = np.meshgrid(y, x)\n",
    "    pg = np.exp(1j*k0*sin(deflect_angle)*x)\n",
    "    return pg\n",
    "\n",
    "\n",
    "def slm_gradient_control(profile) -> np.ndarray:\n",
    "    constant = np.ones(\n",
    "        (pattern_size[0]*lens_size, pattern_size[1]*lens_size), dtype=complex)\n",
    "    gradient = phase_gradient[:pattern_size[0]*lens_size, :pattern_size[1]*lens_size]\n",
    "    cond = np.kron(profile, np.ones((lens_size, lens_size)))\n",
    "    meta = np.where(cond, gradient, constant)\n",
    "    return meta\n",
    "\n",
    "\n",
    "phase_gradient = create_phase_gradient()\n",
    "\n",
    "profile = np.zeros(pattern_size, dtype=complex)\n",
    "pattern = np.array([[1, 1, 1], [1, 1, 1], [1, 1, 1]])\n",
    "\n",
    "profile[offset[0]:offset[0]+pattern.shape[0],\n",
    "        offset[1]:offset[1]+pattern.shape[1]] = pattern\n",
    "\n",
    "slm_phase = np.angle(slm_phaseamp_control(profile) *\n",
    "                     slm_gradient_control(np.abs(profile) == 0))\n",
    "slm_phase = np.pad(\n",
    "    slm_phase, ((0, redun_size[0]), (0, redun_size[1])), 'constant')\n"
   ]
  },
  {
   "cell_type": "code",
   "execution_count": 111,
   "metadata": {},
   "outputs": [],
   "source": [
    "import matplotlib.pyplot as plt\n",
    "import numpy as np\n",
    "\n",
    "from mpl_interactions import ipyplot as iplt\n",
    "\n",
    "plt.close('all')\n",
    "\n",
    "lens_size = 64\n",
    "offset = np.array([0, 0])\n",
    "deflect_angle = 0.5\n",
    "\n",
    "def img(offset0, offset1, lens_size0, deflect_angle0):\n",
    "    global lens_size, pattern_size, redun_size, deflect_angle, phase_gradient\n",
    "    try:\n",
    "        offset[0] = offset0\n",
    "        offset[1] = offset1\n",
    "        lens_size = lens_size0\n",
    "        pattern_size, redun_size = np.divmod(slm_dim, lens_size)\n",
    "        if deflect_angle != deflect_angle0:\n",
    "            deflect_angle = deflect_angle0\n",
    "            phase_gradient = create_phase_gradient()\n",
    "\n",
    "        profile = np.zeros(pattern_size, dtype=complex)\n",
    "        profile[offset[0]:offset[0]+pattern.shape[0],\n",
    "                offset[1]:offset[1]+pattern.shape[1]] = pattern\n",
    "\n",
    "        slm_phase = np.angle(slm_phaseamp_control(\n",
    "            profile)*slm_gradient_control(np.abs(profile) == 0))\n",
    "        slm_phase = np.pad(\n",
    "            slm_phase, ((0, redun_size[0]), (0, redun_size[1])), 'constant')\n",
    "    except Exception as e:\n",
    "        slm_phase = np.zeros(slm_dim)\n",
    "        # raise (e)\n",
    "    return slm_phase\n",
    "\n",
    "\n",
    "fig, ax = plt.subplots()\n",
    "controls = iplt.imshow(img, \n",
    "    offset0=range(0, pattern_size[0]), \n",
    "    offset1=range(0, pattern_size[1]), \n",
    "    lens_size0=range(lens_size//2, 3*lens_size//2, 2), \n",
    "    deflect_angle0=(deflect_angle/2, deflect_angle*3/2), \n",
    "    cmap='hsv')\n",
    "controls.controls['lens_size0'].set_val(lens_size//2)\n",
    "plt.show()\n"
   ]
  },
  {
   "cell_type": "code",
   "execution_count": null,
   "metadata": {},
   "outputs": [],
   "source": []
  }
 ],
 "metadata": {
  "kernelspec": {
   "display_name": "Python 3.10.4 64-bit",
   "language": "python",
   "name": "python3"
  },
  "language_info": {
   "codemirror_mode": {
    "name": "ipython",
    "version": 3
   },
   "file_extension": ".py",
   "mimetype": "text/x-python",
   "name": "python",
   "nbconvert_exporter": "python",
   "pygments_lexer": "ipython3",
   "version": "3.10.4"
  },
  "orig_nbformat": 4,
  "vscode": {
   "interpreter": {
    "hash": "916dbcbb3f70747c44a77c7bcd40155683ae19c65e1c03b4aa3499c5328201f1"
   }
  }
 },
 "nbformat": 4,
 "nbformat_minor": 2
}
